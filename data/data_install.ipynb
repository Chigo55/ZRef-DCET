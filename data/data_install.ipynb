{
 "cells": [
  {
   "cell_type": "code",
   "execution_count": 3,
   "metadata": {},
   "outputs": [],
   "source": [
    "import zipfile\n",
    "\n",
    "file_name = \"../lol-dataset.zip\"\n",
    "output_dir = \"./data/\"\n",
    "zip_file = zipfile.ZipFile(file_name)\n",
    "zip_file.extractall(path=output_dir)"
   ]
  }
 ],
 "metadata": {
  "kernelspec": {
   "display_name": "pidce",
   "language": "python",
   "name": "python3"
  },
  "language_info": {
   "codemirror_mode": {
    "name": "ipython",
    "version": 3
   },
   "file_extension": ".py",
   "mimetype": "text/x-python",
   "name": "python",
   "nbconvert_exporter": "python",
   "pygments_lexer": "ipython3",
   "version": "3.8.20"
  }
 },
 "nbformat": 4,
 "nbformat_minor": 2
}
